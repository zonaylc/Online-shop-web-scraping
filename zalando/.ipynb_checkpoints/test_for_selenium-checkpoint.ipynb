{
 "cells": [
  {
   "cell_type": "code",
   "execution_count": 4,
   "id": "humanitarian-factor",
   "metadata": {},
   "outputs": [
    {
     "ename": "AttributeError",
     "evalue": "'list' object has no attribute 'text'",
     "output_type": "error",
     "traceback": [
      "\u001b[1;31m---------------------------------------------------------------------------\u001b[0m",
      "\u001b[1;31mAttributeError\u001b[0m                            Traceback (most recent call last)",
      "\u001b[1;32m<ipython-input-4-ab620ff5fa05>\u001b[0m in \u001b[0;36m<module>\u001b[1;34m\u001b[0m\n\u001b[0;32m     17\u001b[0m \u001b[0mwait\u001b[0m\u001b[1;33m.\u001b[0m\u001b[0muntil\u001b[0m\u001b[1;33m(\u001b[0m\u001b[0mEC\u001b[0m\u001b[1;33m.\u001b[0m\u001b[0melement_to_be_clickable\u001b[0m\u001b[1;33m(\u001b[0m\u001b[1;33m(\u001b[0m\u001b[0mBy\u001b[0m\u001b[1;33m.\u001b[0m\u001b[0mXPATH\u001b[0m\u001b[1;33m,\u001b[0m \u001b[1;34m'//button[@id=\"picker-trigger\"]'\u001b[0m\u001b[1;33m)\u001b[0m\u001b[1;33m)\u001b[0m\u001b[1;33m)\u001b[0m\u001b[1;33m.\u001b[0m\u001b[0mclick\u001b[0m\u001b[1;33m(\u001b[0m\u001b[1;33m)\u001b[0m\u001b[1;33m\u001b[0m\u001b[1;33m\u001b[0m\u001b[0m\n\u001b[0;32m     18\u001b[0m \u001b[0mresult\u001b[0m \u001b[1;33m=\u001b[0m \u001b[0mwait\u001b[0m\u001b[1;33m.\u001b[0m\u001b[0muntil\u001b[0m\u001b[1;33m(\u001b[0m\u001b[0mEC\u001b[0m\u001b[1;33m.\u001b[0m\u001b[0mpresence_of_all_elements_located\u001b[0m\u001b[1;33m(\u001b[0m\u001b[1;33m(\u001b[0m\u001b[0mBy\u001b[0m\u001b[1;33m.\u001b[0m\u001b[0mXPATH\u001b[0m\u001b[1;33m,\u001b[0m \u001b[1;34m'//form//span//span'\u001b[0m\u001b[1;33m)\u001b[0m\u001b[1;33m)\u001b[0m\u001b[1;33m)\u001b[0m\u001b[1;33m\u001b[0m\u001b[1;33m\u001b[0m\u001b[0m\n\u001b[1;32m---> 19\u001b[1;33m \u001b[0mprint\u001b[0m\u001b[1;33m(\u001b[0m\u001b[0mresult\u001b[0m\u001b[1;33m.\u001b[0m\u001b[0mtext\u001b[0m\u001b[1;33m)\u001b[0m\u001b[1;33m\u001b[0m\u001b[1;33m\u001b[0m\u001b[0m\n\u001b[0m\u001b[0;32m     20\u001b[0m \u001b[1;31m# for r in result:\u001b[0m\u001b[1;33m\u001b[0m\u001b[1;33m\u001b[0m\u001b[1;33m\u001b[0m\u001b[0m\n\u001b[0;32m     21\u001b[0m \u001b[1;31m#           print(r.text)\u001b[0m\u001b[1;33m\u001b[0m\u001b[1;33m\u001b[0m\u001b[1;33m\u001b[0m\u001b[0m\n",
      "\u001b[1;31mAttributeError\u001b[0m: 'list' object has no attribute 'text'"
     ]
    }
   ],
   "source": [
    "# -*- coding: utf-8 -*-\n",
    "from selenium import webdriver\n",
    "from selenium.webdriver.support.ui import Select\n",
    "from selenium.webdriver.support import expected_conditions as EC\n",
    "from selenium.webdriver.common.by import By\n",
    "from selenium.webdriver.support.ui import WebDriverWait\n",
    "\n",
    " \n",
    "    \n",
    "driverpath = r\"C:\\Users\\smile\\zalando\\chromedriver\\chromedriver.exe\"\n",
    "\n",
    "driver = webdriver.Chrome(executable_path=driverpath)\n",
    "driver.get(\"https://www.zalando.at/pier-one-5-pack-t-shirt-basic-dark-bluegreykhaki-pi922o0gu-k11.html\")\n",
    "wait = WebDriverWait(driver, 5)\n",
    "\n",
    "# Get the size choices\n",
    "wait.until(EC.element_to_be_clickable((By.XPATH, '//button[@id=\"picker-trigger\"]'))).click()\n",
    "result = wait.until(EC.presence_of_all_elements_located((By.XPATH, '//form//span//span')))\n",
    "\n",
    "for r in result:\n",
    "          print(r.text)\n",
    "        \n",
    "driver.close()\n",
    "\n",
    "driver2 = webdriver.Chrome(executable_path=driverpath)\n",
    "driver2.get(\"https://www.zalando.at/pier-one-5-pack-t-shirt-basic-dark-bluegreykhaki-pi922o0gu-k11.html\")\n",
    "# Get the size chart\n",
    "# [@class=\"hEr158 DJxzzA u9KIT8 uEg2FS vk5JMf ZkIJC- Vn-7c- FCIprz heWLCX RzUmIb LyRfpJ Md_Vex NN8L-8 _d3F40 WjuqFz mo6ZnF K82if3 dcqDU0 pVrzNP LyRfpJ OXMl2N oW5DLR f2qidi _56Chwa\"]\n",
    "WebDriverWait(driver2, 10).until(EC.element_to_be_clickable((By.XPATH, '//span[text()=\"Passform\"]'))).click()\n",
    "WebDriverWait(driver2, 10).until(EC.element_to_be_clickable((By.XPATH, '//button[@class=\"DJxzzA u9KIT8 uEg2FS vk5JMf ZkIJC- Vn-7c- FCIprz heWLCX RzUmIb LyRfpJ NN8L-8 K82if3 mVyMPj Md_Vex MfX1a0 jgQosE pVrzNP rA5-nl EKabf7 aX2-iv r9BRio E6Km4r\"]'))).click()\n",
    "table_head = WebDriverWait(driver2, 10).until(EC.presence_of_all_elements_located((By.XPATH, '//table//thead')))\n",
    "table_body = WebDriverWait(driver2, 10).until(EC.presence_of_all_elements_located((By.XPATH, '//table//tbody')))\n",
    "\n",
    "# for t in table_body:\n",
    "#     print(t.text)\n",
    "#     print(\"Next Element\")\n",
    "for h in table_head:\n",
    "    print(h.text)\n",
    "    \n",
    "print(\"-Table Content-\")\n",
    "# for i in range(len(table_body)):\n",
    "#     print(table_body[i].text)\n",
    "\n",
    "print(table_body[0].text)\n",
    "print(\"-------\") \n",
    "print(table_body[1].text)\n",
    "        \n",
    "\n",
    "driver2.close()"
   ]
  },
  {
   "cell_type": "code",
   "execution_count": 9,
   "id": "split-america",
   "metadata": {},
   "outputs": [
    {
     "name": "stdout",
     "output_type": "stream",
     "text": [
      "Value is: None\n",
      "Value is: None\n",
      "Value is: None\n",
      "Value is: None\n",
      "Value is: None\n",
      "Value is: None\n",
      "Value is: None\n",
      "Value is: None\n",
      "Value is: None\n",
      "Value is: None\n"
     ]
    }
   ],
   "source": [
    "for option in select:\n",
    "    print(\"Value is: %s\" % option.get_attribute(\"value\"))\n",
    "#     option.click()"
   ]
  }
 ],
 "metadata": {
  "kernelspec": {
   "display_name": "Python 3",
   "language": "python",
   "name": "python3"
  },
  "language_info": {
   "codemirror_mode": {
    "name": "ipython",
    "version": 3
   },
   "file_extension": ".py",
   "mimetype": "text/x-python",
   "name": "python",
   "nbconvert_exporter": "python",
   "pygments_lexer": "ipython3",
   "version": "3.7.10"
  }
 },
 "nbformat": 4,
 "nbformat_minor": 5
}
